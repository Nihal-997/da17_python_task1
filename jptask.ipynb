{
 "cells": [
  {
   "cell_type": "markdown",
   "id": "b5314b67",
   "metadata": {},
   "source": [
    "\n",
    "# title1\n",
    "\n",
    "# title2\n",
    "\n",
    "### title3\n",
    "\n",
    "#### title4\n",
    "\n",
    "##### title5\n",
    "\n",
    "###### title6\n",
    "\n",
    "*this is demo text*"
   ]
  },
  {
   "cell_type": "markdown",
   "id": "bde75a27",
   "metadata": {},
   "source": [
    "___this is bold italic___\n"
   ]
  },
  {
   "cell_type": "markdown",
   "id": "a053dc8e",
   "metadata": {},
   "source": [
    "~~this is strikthrough text~~"
   ]
  },
  {
   "cell_type": "markdown",
   "id": "ce2183ea",
   "metadata": {},
   "source": [
    "# ARC DA 17\n",
    "\n",
    "**python topic**\n",
    "* python\n",
    "* sql\n",
    "* jupyter\n",
    "* DS"
   ]
  },
  {
   "cell_type": "markdown",
   "id": "495a5749",
   "metadata": {},
   "source": [
    "this is the first task of jupyter and python."
   ]
  },
  {
   "cell_type": "markdown",
   "id": "714bc66d",
   "metadata": {},
   "source": [
    "***bold and bold***"
   ]
  },
  {
   "cell_type": "markdown",
   "id": "80a24f9f",
   "metadata": {},
   "source": [
    "- task 1\n",
    "- task 2\n",
    "    * sub-task 2.1\n",
    "    * sub-task 2.2"
   ]
  },
  {
   "cell_type": "markdown",
   "id": "9ef31b52",
   "metadata": {},
   "source": [
    "1. First task \n",
    " 2. Second task \n",
    "    1. Sub-task"
   ]
  },
  {
   "cell_type": "markdown",
   "id": "4d79cbdf",
   "metadata": {},
   "source": [
    "This is some code in a sentence."
   ]
  },
  {
   "cell_type": "markdown",
   "id": "b70f3653",
   "metadata": {},
   "source": [
    "<br>python\n",
    "def hello_world():\n",
    "    print(\"Hello, Jupyter!\")\n",
    "hello_world()\n",
    "<br>\n"
   ]
  },
  {
   "cell_type": "markdown",
   "id": "178dbba2",
   "metadata": {},
   "source": [
    "> this is a task 1.\n",
    "\n",
    "\n",
    "> this is a python code."
   ]
  },
  {
   "cell_type": "markdown",
   "id": "c6da3904",
   "metadata": {},
   "source": [
    "[Google](https://www.google.com)\n",
    "\n",
    "\n",
    "[Link with Title](https://www.example.com \"Example Website\")"
   ]
  },
  {
   "cell_type": "markdown",
   "id": "7e5282ce",
   "metadata": {},
   "source": [
    "---\n",
    "\n",
    "___\n",
    "\n",
    "***"
   ]
  },
  {
   "cell_type": "markdown",
   "id": "115a87c4",
   "metadata": {},
   "source": [
    "```python code```\n",
    "\n",
    "|task1\n",
    "\n",
    "- header row\n",
    "\n",
    ":--- header column"
   ]
  },
  {
   "cell_type": "markdown",
   "id": "0d2a4f48",
   "metadata": {},
   "source": [
    ":---:header"
   ]
  },
  {
   "cell_type": "markdown",
   "id": "5ee9e9c0",
   "metadata": {},
   "source": [
    "---:header"
   ]
  },
  {
   "cell_type": "markdown",
   "id": "01b0709b",
   "metadata": {},
   "source": [
    "- [ ] An unchecked task 1;br> - [x] A checked task 1"
   ]
  },
  {
   "cell_type": "markdown",
   "id": "56933736",
   "metadata": {},
   "source": [
    "I love Jupyter! ❤️ &lt;br> :rocket: Launching soon!"
   ]
  },
  {
   "cell_type": "markdown",
   "id": "fab0eb44",
   "metadata": {},
   "source": [
    "E=mc<sup>2</sup> is Einstein's famous equation."
   ]
  },
  {
   "cell_type": "markdown",
   "id": "1d603fcc",
   "metadata": {},
   "source": [
    "The Pythagorean theorem states that $a^2 + b^2 = c^2$."
   ]
  },
  {
   "cell_type": "markdown",
   "id": "688da887",
   "metadata": {},
   "source": [
    "$$E = mc^2$$\t\n",
    "\n",
    " \n",
    "$$\\sum_{i=1}^{n} i = \\frac{n(n+1)}{2}$$"
   ]
  },
  {
   "cell_type": "markdown",
   "id": "23493750",
   "metadata": {},
   "source": [
    "| Excel | Sql | python |\n",
    "| :------- | :------: | -------: |\n",
    "| task 1 | task 1 | task 1 |\n",
    "| task 2 | task 2 | task 2 |\n"
   ]
  }
 ],
 "metadata": {
  "language_info": {
   "name": "python"
  }
 },
 "nbformat": 4,
 "nbformat_minor": 5
}
